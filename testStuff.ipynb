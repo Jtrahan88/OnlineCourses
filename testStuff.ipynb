{
 "cells": [
  {
   "cell_type": "code",
   "execution_count": null,
   "id": "ef6a525d",
   "metadata": {},
   "outputs": [
    {
     "ename": "NameError",
     "evalue": "name 'csvFile' is not defined",
     "output_type": "error",
     "traceback": [
      "\u001b[1;31m---------------------------------------------------------------------------\u001b[0m",
      "\u001b[1;31mNameError\u001b[0m                                 Traceback (most recent call last)",
      "Cell \u001b[1;32mIn[1], line 4\u001b[0m\n\u001b[0;32m      1\u001b[0m \u001b[38;5;66;03m# Step 1: Group rows by tagPath and strip out tagPath from the data\u001b[39;00m\n\u001b[0;32m      2\u001b[0m groupedData \u001b[38;5;241m=\u001b[39m {}\n\u001b[1;32m----> 4\u001b[0m \u001b[38;5;28;01mfor\u001b[39;00m row \u001b[38;5;129;01min\u001b[39;00m \u001b[43mcsvFile\u001b[49m:\n\u001b[0;32m      5\u001b[0m     tagPath \u001b[38;5;241m=\u001b[39m row[\u001b[38;5;124m'\u001b[39m\u001b[38;5;124mtagPath\u001b[39m\u001b[38;5;124m'\u001b[39m]\n\u001b[0;32m      7\u001b[0m     \u001b[38;5;66;03m# Strip 'tagPath' from the row data\u001b[39;00m\n",
      "\u001b[1;31mNameError\u001b[0m: name 'csvFile' is not defined"
     ]
    }
   ],
   "source": [
    "# Step 1: Group rows by tagPath and strip out tagPath from the data\n",
    "groupedData = {}\n",
    "headers = [h for h in csvFile.fieldnames if h != 'tagPath']\n",
    "for row in csvFile:\n",
    "    tagPath = row['tagPath']\n",
    "    \n",
    "    # Strip 'tagPath' from the row data\n",
    "    rowData = {}\n",
    "    for key in row:\n",
    "        if key != 'tagPath':\n",
    "            rowData[key] = row[key]\n",
    "    \n",
    "    # Add to groupedData\n",
    "    if tagPath not in groupedData:\n",
    "        groupedData[tagPath] = []\n",
    "    groupedData[tagPath].append(rowData)\n",
    "\n",
    "\n",
    "ds = system.dataset.toDataSet(headers, groupedData)"
   ]
  },
  {
   "cell_type": "code",
   "execution_count": null,
   "id": "c79b45b0",
   "metadata": {},
   "outputs": [],
   "source": []
  },
  {
   "cell_type": "code",
   "execution_count": null,
   "id": "49265fdb",
   "metadata": {},
   "outputs": [],
   "source": []
  }
 ],
 "metadata": {
  "kernelspec": {
   "display_name": "Python 3",
   "language": "python",
   "name": "python3"
  },
  "language_info": {
   "codemirror_mode": {
    "name": "ipython",
    "version": 3
   },
   "file_extension": ".py",
   "mimetype": "text/x-python",
   "name": "python",
   "nbconvert_exporter": "python",
   "pygments_lexer": "ipython3",
   "version": "3.12.5"
  }
 },
 "nbformat": 4,
 "nbformat_minor": 5
}
